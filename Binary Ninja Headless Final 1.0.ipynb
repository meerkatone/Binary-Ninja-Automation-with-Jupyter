{
 "cells": [
  {
   "cell_type": "markdown",
   "id": "6fde3468-86f8-4597-bd1a-1abea72a5023",
   "metadata": {},
   "source": [
    "<h1>Binary Ninja Headless API</h1>"
   ]
  },
  {
   "cell_type": "code",
   "execution_count": null,
   "id": "ef29c61a-a4f9-42db-80b9-d40dc57c58fd",
   "metadata": {},
   "outputs": [],
   "source": [
    "%%time\n",
    "import pandas as pd\n",
    "import seaborn as sns\n",
    "import os\n",
    "import hashlib\n",
    "from binaryninja import *\n",
    "import binaryninja\n",
    "from binaryninja import Endianness\n",
    "import math\n",
    "import csv\n",
    "import itertools\n",
    "import pandas_bokeh\n",
    "from collections import Counter\n",
    "import matplotlib.pyplot as plt\n",
    "from ast import literal_eval\n",
    "import jupyter_black\n",
    "\n",
    "jupyter_black.load()\n",
    "pandas_bokeh.output_notebook()\n",
    "\n",
    "os.environ[\"BN_DISABLE_USER_SETTINGS\"] = \"True\"\n",
    "os.environ[\"BN_DISABLE_USER_PLUGINS\"] = \"True\"\n",
    "os.environ[\"BN_DISABLE_REPOSITORY_PLUGINS\"] = \"True\""
   ]
  },
  {
   "cell_type": "markdown",
   "id": "41d07be6-ad5a-4937-8a84-2cc87f705a7e",
   "metadata": {},
   "source": [
    "<h2>Using the Binary Ninja Headless API to find Potential Vulnerabilities</h2>"
   ]
  },
  {
   "cell_type": "code",
   "execution_count": null,
   "id": "795862e0-0e93-492b-9bda-c35c73571c9f",
   "metadata": {
    "scrolled": true
   },
   "outputs": [],
   "source": [
    "%%time\n",
    "# List of dangerous functions\n",
    "dangerous_functions = [\"system\", \"execve\", \"execle\", \"execvp\", \"execlp\", \"doSystemCmd\"]\n",
    "\n",
    "\n",
    "# Get the name of the binaries\n",
    "def get_file_name(path):\n",
    "    return os.path.basename(path)\n",
    "\n",
    "\n",
    "# Get the binary architecture\n",
    "def get_architecture(bv):\n",
    "    return bv.arch.name\n",
    "\n",
    "\n",
    "# Get the binary endianness\n",
    "def get_endianness(bv):\n",
    "    return \"Little\" if bv.endianness == binaryninja.Endianness.LittleEndian else \"Big\"\n",
    "\n",
    "\n",
    "# Calculate the SHA256 hash of the binaries\n",
    "def get_hash(filepath):\n",
    "    bv = binaryninja.load(filepath)\n",
    "    t = binaryninja.transform.Transform[\"SHA256\"]\n",
    "    p = bv.parent_view\n",
    "    h = t.encode(p.read(p.start, p.end))\n",
    "    h_hex = h.hex()\n",
    "    return h_hex\n",
    "\n",
    "\n",
    "# Calculate the cyclomatic complexity of the binaries\n",
    "def calculate_cyclomatic_complexity(function):\n",
    "    edges = sum([len(block.outgoing_edges) for block in function.basic_blocks])\n",
    "    nodes = len(function.basic_blocks)\n",
    "    return edges - nodes + 2\n",
    "\n",
    "\n",
    "# Calculate the entropy of the binaries\n",
    "def calculate_entropy(data):\n",
    "    ent = 0\n",
    "    for byte in range(256):\n",
    "        p_x = float(data.count(byte)) / len(data)\n",
    "        if p_x > 0:\n",
    "            ent += -p_x * math.log(p_x, 2)\n",
    "    return ent\n",
    "\n",
    "\n",
    "# Get the segments of the binaries\n",
    "def get_seg(bv):\n",
    "    segment_info = []\n",
    "    for seg in bv.segments:\n",
    "        segment_info.append(\n",
    "            {\n",
    "                \"start\": seg.start,\n",
    "                \"end\": seg.end,\n",
    "                \"readable\": seg.readable,\n",
    "                \"writable\": seg.writable,\n",
    "                \"executable\": seg.executable,\n",
    "            }\n",
    "        )\n",
    "    return segment_info\n",
    "\n",
    "\n",
    "# Get the dangerous symbols xrefs\n",
    "def find_xrefs_to_dangerous_functions(bv):\n",
    "    xref_info = []\n",
    "\n",
    "    for func_name in dangerous_functions:\n",
    "        symbol = bv.get_symbol_by_raw_name(func_name)\n",
    "        if symbol:\n",
    "            xrefs = bv.get_code_refs(symbol.address)\n",
    "            for xref in xrefs:\n",
    "                xref_info.append(\n",
    "                    (func_name, hex(xref.function.start), hex(xref.address))\n",
    "                )\n",
    "\n",
    "    return xref_info\n",
    "\n",
    "\n",
    "def analyze_binary(path):\n",
    "    bv = binaryninja.load(path)\n",
    "\n",
    "    if bv is None:\n",
    "        return None, None, None, None, None, None, None, None, None, None\n",
    "\n",
    "    ccs = []  # List to hold cyclomatic complexities\n",
    "\n",
    "    for function in bv.functions:\n",
    "        cc = calculate_cyclomatic_complexity(function)\n",
    "        ccs.append(cc)\n",
    "\n",
    "    avg_cc = sum(ccs) / len(ccs) if ccs else 0\n",
    "    filename = get_file_name(path)\n",
    "    file_hash = get_hash(path)\n",
    "    architecture = get_architecture(bv)\n",
    "    funcs = [(func.name, hex(func.start)) for func in bv.functions]\n",
    "    endianness = get_endianness(bv)\n",
    "\n",
    "    strings = [(str(string), hex(string.start)) for string in bv.get_strings()]\n",
    "    segment_info = get_seg(bv)\n",
    "    getrefs = find_xrefs_to_dangerous_functions(bv)\n",
    "\n",
    "    with open(path, \"rb\") as f:\n",
    "        data = f.read()\n",
    "        entropy = calculate_entropy(data)\n",
    "\n",
    "    return (\n",
    "        filename,\n",
    "        file_hash,\n",
    "        architecture,\n",
    "        endianness,\n",
    "        avg_cc,\n",
    "        entropy,\n",
    "        funcs,\n",
    "        strings,\n",
    "        segment_info,\n",
    "        getrefs,\n",
    "    )\n",
    "\n",
    "\n",
    "def analyze_directory(directory):\n",
    "    binaries = [\n",
    "        f for f in os.listdir(directory) if os.path.isfile(os.path.join(directory, f))\n",
    "    ]\n",
    "\n",
    "    entropies = []  # List to hold the entropy values of the binaries\n",
    "    binary_data = []  # List to hold the binary data\n",
    "\n",
    "    for binary in binaries:\n",
    "        (\n",
    "            filename,\n",
    "            file_hash,\n",
    "            architecture,\n",
    "            endianness,\n",
    "            avg_cc,\n",
    "            entropy,\n",
    "            funcs,\n",
    "            strings,\n",
    "            segment_info,\n",
    "            getrefs,\n",
    "        ) = analyze_binary(os.path.join(directory, binary))\n",
    "\n",
    "        if filename is not None:\n",
    "            entropies.append(entropy)\n",
    "            binary_data.append(\n",
    "                {\n",
    "                    \"Binary\": filename,\n",
    "                    \"File_Hash\": file_hash,\n",
    "                    \"Architecture\": architecture,\n",
    "                    \"Endianness\": endianness,\n",
    "                    \"Average_Cyclomatic_Complexity\": avg_cc,\n",
    "                    \"Entropy\": entropy,\n",
    "                    \"Functions\": funcs,\n",
    "                    \"Strings\": strings,\n",
    "                    \"Segments\": segment_info,\n",
    "                    \"Xrefs_to_System\": getrefs,\n",
    "                }\n",
    "            )\n",
    "\n",
    "    df = pd.DataFrame(binary_data)\n",
    "    df.to_parquet(\"binary_analysis_results.parquet\", index=False)\n",
    "\n",
    "\n",
    "if __name__ == \"__main__\":\n",
    "    analyze_directory(\"./Tenda/BNDB/\")"
   ]
  },
  {
   "cell_type": "markdown",
   "id": "5d74e1a6-d326-494f-bcf9-d141c967a9fe",
   "metadata": {},
   "source": [
    "<h2>Creating a Pandas Dataframe from a Parquet</h2>"
   ]
  },
  {
   "cell_type": "code",
   "execution_count": null,
   "id": "c0170933-fc8a-439a-b02d-a2cbcd8c0b6e",
   "metadata": {},
   "outputs": [],
   "source": [
    "%%time\n",
    "df = pd.read_parquet(\"binary_analysis_results.parquet\")"
   ]
  },
  {
   "cell_type": "markdown",
   "id": "da5fb558-071e-4623-aada-93e2cf18734a",
   "metadata": {},
   "source": [
    "<h2>Verify the Pandas Output</h2>"
   ]
  },
  {
   "cell_type": "code",
   "execution_count": null,
   "id": "91a548f8-8b28-4fe4-aade-28b32fea1013",
   "metadata": {
    "scrolled": true
   },
   "outputs": [],
   "source": [
    "%%time\n",
    "df"
   ]
  },
  {
   "cell_type": "code",
   "execution_count": null,
   "id": "941215e4-8864-41b9-a84c-550bed840288",
   "metadata": {
    "scrolled": true
   },
   "outputs": [],
   "source": [
    "df.query('Entropy > 6 and Endianness == \"Big\" and Average_Cyclomatic_Complexity > 3')"
   ]
  },
  {
   "cell_type": "markdown",
   "id": "fd7db691-fab1-4515-bdfd-e9719621d345",
   "metadata": {},
   "source": [
    "<h2>Checking Pandas Datatypes</h2>"
   ]
  },
  {
   "cell_type": "code",
   "execution_count": null,
   "id": "36f84219-de52-445f-91ff-e37414c2deaa",
   "metadata": {},
   "outputs": [],
   "source": [
    "%%time\n",
    "df.dtypes"
   ]
  },
  {
   "cell_type": "markdown",
   "id": "2f922a3c-1228-4e39-8089-a5b8ed6b2acf",
   "metadata": {},
   "source": [
    "<h2>Changing Datatypes to String</h2>"
   ]
  },
  {
   "cell_type": "code",
   "execution_count": null,
   "id": "4e556b65-7de8-4ca8-804b-9f1f003febd1",
   "metadata": {},
   "outputs": [],
   "source": [
    "%%time\n",
    "df[\"Strings\"] = df[\"Strings\"].astype(str)\n",
    "df[\"Functions\"] = df[\"Functions\"].astype(str)\n",
    "df[\"Binary\"] = df[\"Binary\"].astype(str)\n",
    "df[\"Architecture\"] = df[\"Architecture\"].astype(str)\n",
    "df[\"Xrefs_to_System\"] = df[\"Xrefs_to_System\"].astype(str)"
   ]
  },
  {
   "cell_type": "code",
   "execution_count": null,
   "id": "2f6686ad-0d39-4356-8c54-c09544c8cc12",
   "metadata": {},
   "outputs": [],
   "source": [
    "df[df[\"Strings\"].str.contains(\"0x8154\", na=False)]"
   ]
  },
  {
   "cell_type": "code",
   "execution_count": null,
   "id": "bd84c2e2-a4db-4e8e-ab74-1688af3aebfe",
   "metadata": {},
   "outputs": [],
   "source": [
    "df[df[\"Functions\"].str.contains(\"0xec50\", na=False)]"
   ]
  },
  {
   "cell_type": "code",
   "execution_count": null,
   "id": "552de00e-d6ef-4a63-a9cc-a7f56aff3ea0",
   "metadata": {},
   "outputs": [],
   "source": [
    "df[df[\"Xrefs_to_System\"].str.contains(\"0x4fb88\", na=False)]"
   ]
  },
  {
   "cell_type": "markdown",
   "id": "fb6c8e76-f383-4fbf-92ed-6faa4f80bd07",
   "metadata": {},
   "source": [
    "<h2>Create a Chart to Visualise the Average Cyclomatic Complexity < 3.6</h2>"
   ]
  },
  {
   "cell_type": "code",
   "execution_count": null,
   "id": "509dd64e-3d4e-402e-a041-4f9dc2ffb24a",
   "metadata": {},
   "outputs": [],
   "source": [
    "df_plot = df.query(\"Average_Cyclomatic_Complexity < 3.6\")"
   ]
  },
  {
   "cell_type": "code",
   "execution_count": null,
   "id": "3cf87d93-04e3-4550-ac5f-2a682828fd99",
   "metadata": {
    "scrolled": true
   },
   "outputs": [],
   "source": [
    "df_plot"
   ]
  },
  {
   "cell_type": "code",
   "execution_count": null,
   "id": "f833350c-a31b-45f8-ad78-968a719182e2",
   "metadata": {},
   "outputs": [],
   "source": [
    "search_string = \"system\"\n",
    "df[\"Potential_Dangerous_Calls_To_System\"] = df[\"Xrefs_to_System\"].apply(\n",
    "    lambda x: x.count(search_string)\n",
    ")"
   ]
  },
  {
   "cell_type": "code",
   "execution_count": null,
   "id": "06792581-c833-4dc5-a6e9-c1b83e2f1d3e",
   "metadata": {
    "scrolled": true
   },
   "outputs": [],
   "source": [
    "df"
   ]
  },
  {
   "cell_type": "code",
   "execution_count": null,
   "id": "f9f4a34a-98f1-40d6-be3d-58639658ecd8",
   "metadata": {},
   "outputs": [],
   "source": [
    "df_sorted = df.sort_values(by=\"Potential_Dangerous_Calls_To_System\", ascending=False)"
   ]
  },
  {
   "cell_type": "markdown",
   "id": "764da92f-bc5c-4a12-ae1d-823c734d88e7",
   "metadata": {},
   "source": [
    "<h2>Create a Chart to Visualise the Potentially Dangerous Calls to System</h2>"
   ]
  },
  {
   "cell_type": "code",
   "execution_count": null,
   "id": "dcf41019-b194-4069-b4e3-b753df7f524b",
   "metadata": {},
   "outputs": [],
   "source": [
    "%%time\n",
    "df_sorted.plot_bokeh.bar(\n",
    "    x=\"Binary\",\n",
    "    y=\"Potential_Dangerous_Calls_To_System\",\n",
    "    figsize=(900, 700),\n",
    "    title=\"Potential_Dangerous_Calls_To_System\",\n",
    "    xlabel=\"Binary\",\n",
    "    ylabel=\"Total\",\n",
    "    vertical_xlabel=True,\n",
    ")"
   ]
  },
  {
   "cell_type": "markdown",
   "id": "b920dd04-e8c4-42db-8601-e6e0c2e81024",
   "metadata": {},
   "source": [
    "<h2>Create a Chart to Visualise the Entropy</h2>"
   ]
  },
  {
   "cell_type": "code",
   "execution_count": null,
   "id": "5ee4403a-1d3f-4525-9fdf-dc28e55be66f",
   "metadata": {},
   "outputs": [],
   "source": [
    "%%time\n",
    "plt.figure(figsize=(12, 6))\n",
    "plt.bar(df[\"Binary\"], df[\"Entropy\"])\n",
    "plt.title(\"Entropy of Binaries\")\n",
    "plt.xlabel(\"Binary\")\n",
    "plt.ylabel(\"Entropy\")\n",
    "plt.xticks(rotation=45, ha=\"right\")\n",
    "plt.tight_layout()\n",
    "plt.savefig(\"Entropy_chart.png\")"
   ]
  },
  {
   "cell_type": "code",
   "execution_count": null,
   "id": "e29a56b4-618c-4a23-89bd-1826c719072c",
   "metadata": {},
   "outputs": [],
   "source": [
    "%%time\n",
    "plt.figure(figsize=(12, 6))\n",
    "plt.bar(df_plot[\"Binary\"], df_plot[\"Average_Cyclomatic_Complexity\"])\n",
    "plt.title(\"Average Cyclomatic Complexity\")\n",
    "plt.xlabel(\"Binary\")\n",
    "plt.ylabel(\"Average_Cyclomatic_Complexity\")\n",
    "plt.xticks(rotation=45, ha=\"right\")\n",
    "plt.tight_layout()\n",
    "plt.savefig(\"Average_Cyclomatic_Complexity_chart.png\")"
   ]
  },
  {
   "cell_type": "markdown",
   "id": "4af13fbd-c152-4850-a9b6-7d1965bb6d80",
   "metadata": {},
   "source": [
    "<h2>Create a Chart to Visualise the Average Cyclomatic Complexity</h2>"
   ]
  },
  {
   "cell_type": "code",
   "execution_count": null,
   "id": "6b0e9184-f15e-4519-b671-d0e73a954226",
   "metadata": {},
   "outputs": [],
   "source": [
    "%%time\n",
    "plt.figure(figsize=(12, 6))\n",
    "plt.bar(df[\"Binary\"], df[\"Average_Cyclomatic_Complexity\"])\n",
    "plt.title(\"Average Cyclomatic Complexity of Binaries\")\n",
    "plt.xlabel(\"Binary\")\n",
    "plt.ylabel(\"Average Cyclomatic Complexity\")\n",
    "plt.xticks(rotation=45, ha=\"right\")\n",
    "plt.tight_layout()\n",
    "plt.savefig(\"Average_Cyclomatic_Complexity_chart.png\")"
   ]
  },
  {
   "cell_type": "markdown",
   "id": "0c7ea8ab-ae5f-4313-a780-a691a2375618",
   "metadata": {},
   "source": [
    "<h2>Create an Interactive Chart to Visualise the Entropy and Average Cyclomatic Complexity</h2>"
   ]
  },
  {
   "cell_type": "code",
   "execution_count": null,
   "id": "3a972f6b-4c2b-4f58-8381-f48b55b771e1",
   "metadata": {},
   "outputs": [],
   "source": [
    "%%time\n",
    "df.plot_bokeh.bar(\n",
    "    x=\"Binary\",\n",
    "    y=[\"Entropy\", \"Average_Cyclomatic_Complexity\"],\n",
    "    figsize=(900, 700),\n",
    "    title=\"Entropy and Average Cyclomatic Complexity of Binaries\",\n",
    "    xlabel=\"Binary\",\n",
    "    ylabel=\"Score\",\n",
    "    vertical_xlabel=True,\n",
    ")"
   ]
  },
  {
   "cell_type": "markdown",
   "id": "9920d4a2-192c-482c-8850-b71c2e0fb25b",
   "metadata": {},
   "source": [
    "<h2>Create a New Pandas Dataframe Highlight the Entropy Values</h2>"
   ]
  },
  {
   "cell_type": "code",
   "execution_count": null,
   "id": "15765ddb-588c-4771-aa56-5fab89227413",
   "metadata": {},
   "outputs": [],
   "source": [
    "%%time\n",
    "ent_chart = [\"Binary\", \"File_Hash\", \"Entropy\"]\n",
    "ent_chart = pd.DataFrame(df[ent_chart])\n",
    "ent_chart = ent_chart.sort_values(by=[\"Entropy\"], ascending=False)\n",
    "ent_chart = ent_chart.reset_index(drop=True)"
   ]
  },
  {
   "cell_type": "raw",
   "id": "0c377800-4acd-4f36-8250-20b5b52547fd",
   "metadata": {
    "scrolled": true
   },
   "source": [
    "ent_chart.style.bar(subset=['Entropy'], color='red')"
   ]
  },
  {
   "cell_type": "code",
   "execution_count": null,
   "id": "ac91faaa-70aa-4cfe-a0e7-d607a8f5b37a",
   "metadata": {},
   "outputs": [],
   "source": [
    "%%time\n",
    "\n",
    "\n",
    "def highlight_score(val):\n",
    "    if val >= 7.0:\n",
    "        return \"color: red\"\n",
    "    else:\n",
    "        return \"color: green\"\n",
    "\n",
    "\n",
    "ent_styled_df = ent_chart.style.applymap(highlight_score, subset=[\"Entropy\"])\n",
    "ent_styled_df"
   ]
  },
  {
   "cell_type": "markdown",
   "id": "2089175a-1962-4fe8-82a7-b304c62e5a4c",
   "metadata": {},
   "source": [
    "<h2>Jaccard Similarity Index of Cisco RV130 HTTPD Binaries</h2>"
   ]
  },
  {
   "cell_type": "code",
   "execution_count": null,
   "id": "8abac56d-17a7-4070-a47d-d377e739bc3f",
   "metadata": {},
   "outputs": [],
   "source": [
    "%%time\n",
    "\n",
    "\n",
    "def calculate_jaccard_index(binary1, binary2):\n",
    "    bv1 = binaryninja.load(binary1)\n",
    "    bv2 = binaryninja.load(binary2)\n",
    "\n",
    "    functions1 = set([function.start for function in bv1.functions])\n",
    "    functions2 = set([function.start for function in bv2.functions])\n",
    "\n",
    "    intersection = functions1 & functions2\n",
    "    union = functions1 | functions2\n",
    "\n",
    "    return float(len(intersection)) / len(union)\n",
    "\n",
    "\n",
    "# Get all binaries in the folder\n",
    "binaries = [\n",
    "    os.path.join(\"./RV130_HTTPD/bndb/\", f)\n",
    "    for f in os.listdir(\"./RV130_HTTPD/bndb/\")\n",
    "    if os.path.isfile(os.path.join(\"./RV130_HTTPD/bndb/\", f))\n",
    "]\n",
    "\n",
    "# Create a CSV file to store the results\n",
    "with open(\"jaccard_output.csv\", \"w\", newline=\"\") as csvfile:\n",
    "    fieldnames = [\"Binary1\", \"Binary2\", \"Jaccard Index\"]\n",
    "    writer = csv.DictWriter(csvfile, fieldnames=fieldnames)\n",
    "\n",
    "    writer.writeheader()\n",
    "\n",
    "    # Calculate Jaccard Similarity for each pair of binaries\n",
    "    for binary1, binary2 in itertools.combinations(binaries, 2):\n",
    "        jaccard_index = calculate_jaccard_index(binary1, binary2)\n",
    "        binary1 = binary1.replace(\"./RV130_HTTPD/bndb/\", \"\")  # Strip the prefix\n",
    "        binary2 = binary2.replace(\"./RV130_HTTPD/bndb/\", \"\")  # Strip the prefix\n",
    "        writer.writerow(\n",
    "            {\"Binary1\": binary1, \"Binary2\": binary2, \"Jaccard Index\": jaccard_index}\n",
    "        )"
   ]
  },
  {
   "cell_type": "code",
   "execution_count": null,
   "id": "df6a6bf1-427a-47ea-a500-75d95b9cb646",
   "metadata": {},
   "outputs": [],
   "source": [
    "%%time\n",
    "df_jaccard = pd.read_csv(\"jaccard_output.csv\")"
   ]
  },
  {
   "cell_type": "raw",
   "id": "25d967a7-9232-4bc5-af19-7ec4d4580d67",
   "metadata": {},
   "source": [
    "%%time\n",
    "df_jaccard.style.bar(subset=['Jaccard Index'], color='red')"
   ]
  },
  {
   "cell_type": "code",
   "execution_count": null,
   "id": "d2b17bc0-a5c5-4411-8554-b94dedb39024",
   "metadata": {
    "scrolled": true
   },
   "outputs": [],
   "source": [
    "%%time\n",
    "\n",
    "\n",
    "def highlight_score(val):\n",
    "    if val >= 0.7:\n",
    "        return \"color: red\"\n",
    "    else:\n",
    "        return \"color: green\"\n",
    "\n",
    "\n",
    "jaccard_styled_df = df_jaccard.style.applymap(highlight_score, subset=[\"Jaccard Index\"])\n",
    "jaccard_styled_df"
   ]
  },
  {
   "cell_type": "markdown",
   "id": "8877c361-0173-484b-8a08-b5f02f620fb7",
   "metadata": {},
   "source": [
    "| Jaccard Index Range | Interpretation                                        |\n",
    "|---------------------|------------------------------------------------------|\n",
    "| 0.0                 | No similarity at all. The sets have no elements in common. |\n",
    "| 0.0 - 0.3           | Low similarity. The sets have a relatively small overlap. |\n",
    "| 0.3 - 0.7           | Moderate similarity. The sets have a reasonable overlap but are not identical. |\n",
    "| 0.7 - 1.0           | High similarity. The sets have a substantial overlap. |"
   ]
  },
  {
   "cell_type": "code",
   "execution_count": null,
   "id": "aa20c39e-cab1-4f7a-b9b4-21b17e91d8f0",
   "metadata": {},
   "outputs": [],
   "source": [
    "%%time\n",
    "similarity_matrix = df_jaccard.pivot(\n",
    "    index=\"Binary1\", columns=\"Binary2\", values=\"Jaccard Index\"\n",
    ").fillna(0)"
   ]
  },
  {
   "cell_type": "code",
   "execution_count": null,
   "id": "e05bfcad-1f45-43d3-9cbb-3a52be24d4b7",
   "metadata": {},
   "outputs": [],
   "source": [
    "%%time\n",
    "plt.figure(figsize=(8, 6))\n",
    "sns.heatmap(similarity_matrix, cmap=\"vlag\", annot=True, fmt=\".1f\", linewidths=0.5)\n",
    "plt.title(\"Jaccard Similarity Heatmap\")\n",
    "plt.show()"
   ]
  },
  {
   "cell_type": "markdown",
   "id": "1130e845-ea37-4262-8e28-a3bbf7c34ccc",
   "metadata": {},
   "source": [
    "<h2>Run PwnTools Checksec to the Determine the Binary Security Settings</h2>"
   ]
  },
  {
   "cell_type": "code",
   "execution_count": null,
   "id": "a0912613-c656-443e-ab20-e7388221d953",
   "metadata": {},
   "outputs": [],
   "source": [
    "%%time\n",
    "# Run PwnTools Checksec\n",
    "data = !/Users/user/Library/Python/3.9/bin/checksec ./Tenda/Tenda/*\n",
    "\n",
    "# Initiate empty lists for storing data\n",
    "filename = []\n",
    "arch = []\n",
    "relro = []\n",
    "stack = []\n",
    "nx = []\n",
    "pie = []\n",
    "\n",
    "# Iterate over the data\n",
    "for line in data:\n",
    "    if line.startswith(\"[*]\"):\n",
    "        filename.append(line.split(\" \")[1].strip(\"'\"))\n",
    "    elif line.strip().startswith(\"Arch:\"):\n",
    "        arch.append(line.split(\":\", 1)[1].strip())\n",
    "    elif line.strip().startswith(\"RELRO:\"):\n",
    "        relro.append(line.split(\":\", 1)[1].strip())\n",
    "    elif line.strip().startswith(\"Stack:\"):\n",
    "        stack.append(line.split(\":\", 1)[1].strip())\n",
    "    elif line.strip().startswith(\"NX:\"):\n",
    "        nx.append(line.split(\":\", 1)[1].strip())\n",
    "    elif line.strip().startswith(\"PIE:\"):\n",
    "        pie.append(line.split(\":\", 1)[1].strip())\n",
    "\n",
    "# Create DataFrame\n",
    "df_tenda_checksec = pd.DataFrame(\n",
    "    {\n",
    "        \"Filename\": filename,\n",
    "        \"Arch\": arch,\n",
    "        \"RELRO\": relro,\n",
    "        \"Stack\": stack,\n",
    "        \"NX\": nx,\n",
    "        \"PIE\": pie,\n",
    "    }\n",
    ")\n",
    "\n",
    "# Apply the function to the 'Filename' column\n",
    "df_tenda_checksec[\"Filename\"] = df_tenda_checksec[\"Filename\"].apply(\n",
    "    lambda x: os.path.basename(x)\n",
    ")\n",
    "df_tenda_checksec.to_csv(\"tenda_checksec.csv\", index=False)"
   ]
  },
  {
   "cell_type": "markdown",
   "id": "7b3deb4b-e7f0-41b5-aa8a-f1c880b4f238",
   "metadata": {},
   "source": [
    "<h2>Verify the Pandas Output</h2>"
   ]
  },
  {
   "cell_type": "code",
   "execution_count": null,
   "id": "1cd28672-c9cf-4abc-9b18-38f381aa6cf2",
   "metadata": {},
   "outputs": [],
   "source": [
    "%%time\n",
    "df_tenda_checksec"
   ]
  },
  {
   "cell_type": "markdown",
   "id": "3894223e-e805-4f42-9871-b12e60263b75",
   "metadata": {},
   "source": [
    "<h2>Use Binary Ninja's IL SSA Form to Help Validate if we Control the Input to System</h2>"
   ]
  },
  {
   "cell_type": "code",
   "execution_count": null,
   "id": "2ae3f249-d8eb-47fc-8a01-4bfd2a10294b",
   "metadata": {
    "scrolled": true
   },
   "outputs": [],
   "source": [
    "%%time\n",
    "# Open the BinaryView\n",
    "bv = binaryninja.load(\"./Tenda/BNDB/webs.bndb\")\n",
    "\n",
    "# Assuming the function at sub_3d874 is what we want\n",
    "# The is one of the potentiual calls to system from our automated analysis\n",
    "func = bv.get_function_at(0x3D874)\n",
    "\n",
    "# Access HLIL SSA form, or other Binary Ninja IL SSA forms\n",
    "hlil_ssa = func.hlil.ssa_form\n",
    "\n",
    "# Now, you can iterate over basic blocks and instructions in this form\n",
    "for block in hlil_ssa:\n",
    "    for insn in block:\n",
    "        print(insn)"
   ]
  },
  {
   "cell_type": "code",
   "execution_count": null,
   "id": "3319808a-f4ce-42c3-92d4-7c810a05ed6f",
   "metadata": {
    "scrolled": true
   },
   "outputs": [],
   "source": [
    "%%time\n",
    "from binaryninja import *\n",
    "import glob\n",
    "\n",
    "\n",
    "def find_control_to_system(bv):\n",
    "    for func in bv.functions:\n",
    "        for block in func.medium_level_il:\n",
    "            for insn in block:\n",
    "                if (\n",
    "                    insn.operation == MediumLevelILOperation.MLIL_CALL\n",
    "                    and insn.dest.operation == MediumLevelILOperation.MLIL_CONST_PTR\n",
    "                    and bv.get_function_at(insn.dest.value)\n",
    "                ):\n",
    "                    called_func = bv.get_function_at(insn.dest.value)\n",
    "                    if \"system\" in called_func.name:\n",
    "                        print(\n",
    "                            f\"Call to system at {hex(insn.address)} in {bv.file.filename.strip('./Tenda/BNDB/')}\"\n",
    "                        )\n",
    "\n",
    "\n",
    "# Replace 'folder_path' with the actual path to your folder containing binaries\n",
    "folder_path = \"./Tenda/BNDB/*\"\n",
    "\n",
    "# Use glob to get a list of binary file paths\n",
    "binary_paths = glob.glob(folder_path)\n",
    "\n",
    "# Process each binary\n",
    "for binary_path in binary_paths:\n",
    "    bv = binaryninja.load(binary_path)\n",
    "    bv.update_analysis_and_wait()\n",
    "    find_control_to_system(bv)"
   ]
  },
  {
   "cell_type": "markdown",
   "id": "186250aa-5143-4809-bf95-da3152b79fae",
   "metadata": {
    "jp-MarkdownHeadingCollapsed": true
   },
   "source": [
    "<h2>Create Bulk BNDBs for Batch Scanning</h2>"
   ]
  },
  {
   "cell_type": "raw",
   "id": "c4003d3b-609b-4d52-9f0f-fbdfb24e944a",
   "metadata": {},
   "source": [
    "%%time\n",
    "from binaryninja import *\n",
    "import glob\n",
    "\n",
    "folder_path = \"./Tenda/*\"\n",
    "\n",
    "# Use glob to get a list of binary file paths\n",
    "binary_paths = glob.glob(folder_path)\n",
    "\n",
    "# Process each binary\n",
    "settings = SaveSettings()\n",
    "for binary_path in binary_paths:\n",
    "    bv = binaryninja.load(binary_path)\n",
    "    bv.update_analysis_and_wait()\n",
    "    bv.create_database(f\"{bv.file.filename}.bndb\", None, settings)"
   ]
  },
  {
   "cell_type": "markdown",
   "id": "1f68175b-64b6-41dd-8640-18007ebdd028",
   "metadata": {},
   "source": [
    "<h2>Reference Material</h2>"
   ]
  },
  {
   "cell_type": "markdown",
   "id": "07e87b2e-d62f-4e4b-b58c-deb290eae3a2",
   "metadata": {},
   "source": [
    "- 10 Minutes to Pandas: https://pandas.pydata.org/docs/user_guide/10min.html\n",
    "- Pandas Cookbook: https://pandas.pydata.org/docs/user_guide/cookbook.html#cookbook\n",
    "- Binary Ninja Python API Reference: https://api.binary.ninja/\n",
    "- Binary Ninja Intermediate Language Overview: https://docs.binary.ninja/dev/bnil-overview.html\n",
    "- Batch Processing and Other Automation Tips: https://docs.binary.ninja/dev/batch.html\n",
    "- User Informed Data Flow: https://docs.binary.ninja/dev/uidf.html\n",
    "- SSA Explained: https://carstein.github.io/2020/10/22/ssa-explained.html#fnref:1\n",
    "- Hunting Format String Vulnerabilities: https://youtu.be/Mylbm3MIiTU\n",
    "- Auditing system calls for command injection vulnerabilities using Binary Ninja's HLIL: https://youtu.be/F3uh8DuS0tE\n",
    "- cetfor/SystemCallAuditorBinja.py: https://gist.github.com/cetfor/67cbd707bf44252aebbaf6308db28ee5\n",
    "- Learning Binary Ninja for Reverse Engineering - Scripting Basics and More Part 1: https://youtu.be/RVyZBqjLrE0\n",
    "- Learning Binary Ninja for Reverse Engineering - Scripting Basics and More Part 2: https://youtu.be/gLggUUy0-iI"
   ]
  }
 ],
 "metadata": {
  "kernelspec": {
   "display_name": "Python 3 (ipykernel)",
   "language": "python",
   "name": "python3"
  },
  "language_info": {
   "codemirror_mode": {
    "name": "ipython",
    "version": 3
   },
   "file_extension": ".py",
   "mimetype": "text/x-python",
   "name": "python",
   "nbconvert_exporter": "python",
   "pygments_lexer": "ipython3",
   "version": "3.9.6"
  }
 },
 "nbformat": 4,
 "nbformat_minor": 5
}
